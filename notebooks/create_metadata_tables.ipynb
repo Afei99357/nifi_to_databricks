{
 "cells": [
  {
   "cell_type": "code",
   "execution_count": 0,
   "metadata": {
    "application/vnd.databricks.v1+cell": {
     "cellMetadata": {
      "byteLimit": 2048000,
      "rowLimit": 10000
     },
     "inputWidgets": {},
     "nuid": "6e489d6c-8154-44d2-99a2-f615c1aecbea",
     "showTitle": false,
     "tableResultSettingsMap": {},
     "title": ""
    }
   },
   "outputs": [],
   "source": [
    "%pip install databricks=0.2 databricks-langchain==0.5.1"
   ]
  },
  {
   "cell_type": "code",
   "execution_count": 0,
   "metadata": {
    "application/vnd.databricks.v1+cell": {
     "cellMetadata": {
      "byteLimit": 2048000,
      "rowLimit": 10000
     },
     "inputWidgets": {},
     "nuid": "53d64f12-b9c1-4c03-b69c-377c67076400",
     "showTitle": false,
     "tableResultSettingsMap": {},
     "title": ""
    }
   },
   "outputs": [],
   "source": [
    "from schemas.nifi_metadata import processor_schema, processor_properties_schema, processor_connections_schema\n",
    "from tools.table_operations import create_table\n",
    "\n",
    "from pyspark.sql import SparkSession\n",
    "\n",
    "catalog = \"\"\n",
    "schema = \"nifi_workflow_metadata\""
   ]
  },
  {
   "cell_type": "code",
   "execution_count": 0,
   "metadata": {
    "application/vnd.databricks.v1+cell": {
     "cellMetadata": {
      "byteLimit": 2048000,
      "rowLimit": 10000
     },
     "inputWidgets": {},
     "nuid": "25ca02db-223d-41d8-bd07-44ece7052786",
     "showTitle": false,
     "tableResultSettingsMap": {},
     "title": ""
    }
   },
   "outputs": [],
   "source": [
    "# Read the XML file contents\n",
    "spark = SparkSession.builder.appName(\"CreateTable\").getOrCreate()\n",
    "\n",
    "create_table(catalog, schema, \"nifi_processors\", processor_schema)\n",
    "\n",
    "create_table(catalog, schema, \"nifi_processor_properties\", processor_properties_schema)\n",
    "\n",
    "create_table(catalog, schema, \"nifi_connections\", processor_connections_schema)\n",
    "\n",
    "spark.stop()"
   ]
  },
  {
   "cell_type": "code",
   "execution_count": 0,
   "metadata": {
    "application/vnd.databricks.v1+cell": {
     "cellMetadata": {},
     "inputWidgets": {},
     "nuid": "1b0d5e31-9343-4ecb-9608-ca69bf23835e",
     "showTitle": false,
     "tableResultSettingsMap": {},
     "title": ""
    }
   },
   "outputs": [],
   "source": []
  }
 ],
 "metadata": {
  "application/vnd.databricks.v1+notebook": {
   "computePreferences": null,
   "dashboards": [],
   "environmentMetadata": {
    "base_environment": "",
    "environment_version": "3"
   },
   "inputWidgetPreferences": null,
   "language": "python",
   "notebookMetadata": {
    "pythonIndentUnit": 4
   },
   "notebookName": "create_metadata_tables",
   "widgets": {}
  },
  "language_info": {
   "name": "python"
  }
 },
 "nbformat": 4,
 "nbformat_minor": 0
}
